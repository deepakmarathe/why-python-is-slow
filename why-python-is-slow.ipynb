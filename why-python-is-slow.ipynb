{
 "cells": [
  {
   "cell_type": "markdown",
   "metadata": {},
   "source": [
    "### starting up interpreter will create a lot of integer objects"
   ]
  },
  {
   "cell_type": "code",
   "execution_count": 3,
   "metadata": {},
   "outputs": [
    {
     "data": {
      "text/plain": [
       "Text(0,0.5,u'reference count')"
      ]
     },
     "execution_count": 3,
     "metadata": {},
     "output_type": "execute_result"
    },
    {
     "data": {
      "image/png": "[encoded data removed]",
      "text/plain": [
       "<matplotlib.figure.Figure at 0x116c30d10>"
      ]
     },
     "metadata": {},
     "output_type": "display_data"
    }
   ],
   "source": [
    "%matplotlib inline\n",
    "import matplotlib.pyplot as plt\n",
    "import sys\n",
    "plt.loglog(range(1000), [sys.getrefcount(i) for i in range(1000)])\n",
    "plt.xlabel('integer value')\n",
    "plt.ylabel('reference count')"
   ]
  },
  {
   "cell_type": "code",
   "execution_count": 6,
   "metadata": {
    "collapsed": true
   },
   "outputs": [],
   "source": [
    "import ctypes\n",
    "\n",
    "class IntStruct(ctypes.Structure):\n",
    "    _fields_ = [(\"ob_refcnt\", ctypes.c_long), \n",
    "               (\"ob_type\", ctypes.c_void_p), \n",
    "               (\"ob_size\", ctypes.c_ulong),\n",
    "               (\"ob_digit\", ctypes.c_long)]\n",
    "    \n",
    "    def __repr__(self):\n",
    "        return (\"IntStruct(ob_digit={self.ob_digit}, \"\n",
    "               \"refcount = {self.ob_refcnt})\").format(self = self)"
   ]
  },
  {
   "cell_type": "code",
   "execution_count": 7,
   "metadata": {},
   "outputs": [
    {
     "data": {
      "text/plain": [
       "IntStruct(ob_digit=37, refcount = 42)"
      ]
     },
     "execution_count": 7,
     "metadata": {},
     "output_type": "execute_result"
    }
   ],
   "source": [
    "num = 42\n",
    "IntStruct.from_address(id(42))"
   ]
  },
  {
   "cell_type": "code",
   "execution_count": 12,
   "metadata": {},
   "outputs": [
    {
     "data": {
      "text/plain": [
       "False"
      ]
     },
     "execution_count": 12,
     "metadata": {},
     "output_type": "execute_result"
    }
   ],
   "source": [
    "all(i == IntStruct.from_address(id(i)).ob_digit for i in range(256))"
   ]
  },
  {
   "cell_type": "code",
   "execution_count": 24,
   "metadata": {},
   "outputs": [
    {
     "name": "stdout",
     "output_type": "stream",
     "text": [
      "CPU times: user 33 µs, sys: 3 µs, total: 36 µs\n",
      "Wall time: 42.2 µs\n"
     ]
    },
    {
     "data": {
      "text/plain": [
       "[0,\n",
       " 1,\n",
       " 1267650600228229401496703205376L,\n",
       " 515377520732011331036461129765621272702107522001L,\n",
       " 1606938044258990275541962092341162602522202993782792835301376L,\n",
       " 7888609052210118054117285652827862296732064351090230047702789306640625L,\n",
       " 653318623500070906096690267158057820537143710472954871543071966369497141477376L,\n",
       " 3234476509624757991344647769100216810857203198904625400933895331391691459636928060001L,\n",
       " 2037035976334486086268445688409378161051468393665936250636140449354381299763336706183397376L,\n",
       " 265613988875874769338781322035779626829233452653394495974574961739092490901302182994384699044001L]"
      ]
     },
     "execution_count": 24,
     "metadata": {},
     "output_type": "execute_result"
    }
   ],
   "source": [
    "%%time \n",
    "[i ** 100 for i in range(10)]"
   ]
  },
  {
   "cell_type": "markdown",
   "metadata": {},
   "source": [
    "## Digging into python list"
   ]
  },
  {
   "cell_type": "code",
   "execution_count": 25,
   "metadata": {
    "collapsed": true
   },
   "outputs": [],
   "source": [
    "class ListStruct(ctypes.Structure):\n",
    "    _fields_ = [(\"ob_refcnt\", ctypes.c_long),\n",
    "               (\"ob_type\", ctypes.c_void_p),\n",
    "               (\"ob_size\", ctypes.c_ulong),\n",
    "               (\"ob_item\", ctypes.c_long),\n",
    "               (\"allocated\", ctypes.c_ulong)]\n",
    "    def __repr__(self):\n",
    "        return (\"ListStruct(len={self.ob_size}, \"\n",
    "               \"refcnt={self.ob_refcnt}\").format(self=self)"
   ]
  },
  {
   "cell_type": "code",
   "execution_count": 29,
   "metadata": {},
   "outputs": [
    {
     "data": {
      "text/plain": [
       "ListStruct(len=5, refcnt=1"
      ]
     },
     "execution_count": 29,
     "metadata": {},
     "output_type": "execute_result"
    }
   ],
   "source": [
    "L = [1,2,3,4,5]\n",
    "ListStruct.from_address(id(L))"
   ]
  },
  {
   "cell_type": "markdown",
   "metadata": {},
   "source": [
    "### add 2 more references to L"
   ]
  },
  {
   "cell_type": "code",
   "execution_count": 31,
   "metadata": {},
   "outputs": [
    {
     "data": {
      "text/plain": [
       "ListStruct(len=5, refcnt=3"
      ]
     },
     "execution_count": 31,
     "metadata": {},
     "output_type": "execute_result"
    }
   ],
   "source": [
    "tup = [L, L] \n",
    "ListStruct.from_address(id(L))"
   ]
  },
  {
   "cell_type": "code",
   "execution_count": 32,
   "metadata": {
    "collapsed": true
   },
   "outputs": [],
   "source": [
    "Lstruct = ListStruct.from_address(id(L))\n",
    "PtrArray = Lstruct.ob_size * ctypes.POINTER(IntStruct)\n",
    "L_values = PtrArray.from_address(Lstruct.ob_item)"
   ]
  },
  {
   "cell_type": "code",
   "execution_count": 33,
   "metadata": {},
   "outputs": [
    {
     "data": {
      "text/plain": [
       "[IntStruct(ob_digit=11771, refcount = 7825),\n",
       " IntStruct(ob_digit=7830, refcount = 4120),\n",
       " IntStruct(ob_digit=4123, refcount = 1294),\n",
       " IntStruct(ob_digit=1297, refcount = 806),\n",
       " IntStruct(ob_digit=809, refcount = 1377)]"
      ]
     },
     "execution_count": 33,
     "metadata": {},
     "output_type": "execute_result"
    }
   ],
   "source": [
    "[ ptr[0] for ptr in L_values ]"
   ]
  },
  {
   "cell_type": "markdown",
   "metadata": {},
   "source": [
    "## Digging into numpy arrays"
   ]
  },
  {
   "cell_type": "code",
   "execution_count": 34,
   "metadata": {},
   "outputs": [
    {
     "data": {
      "text/plain": [
       "'1.13.3'"
      ]
     },
     "execution_count": 34,
     "metadata": {},
     "output_type": "execute_result"
    }
   ],
   "source": [
    "import numpy as np \n",
    "np.__version__"
   ]
  },
  {
   "cell_type": "code",
   "execution_count": 35,
   "metadata": {
    "collapsed": true
   },
   "outputs": [],
   "source": [
    "class NumpyStruct(ctypes.Structure):\n",
    "    _fields_ = [(\"ob_refcnt\", ctypes.c_long),\n",
    "               (\"ob_type\", ctypes.c_void_p),\n",
    "               (\"ob_data\", ctypes.c_long),\n",
    "               (\"ob_ndim\", ctypes.c_int),\n",
    "               (\"ob_shape\", ctypes.c_voidp),\n",
    "               (\"ob_strides\", ctypes.c_voidp)]\n",
    "    @property\n",
    "    def shape(self):\n",
    "        return tuple((self.ob_ndim * ctypes.c_int64).from_address(self.ob_shape))\n",
    "    \n",
    "    @property\n",
    "    def strides(self):\n",
    "        return tuple((self.ob_ndim * ctypes.c_int64).from_address(self.ob_strides))\n",
    "    \n",
    "    def __repr__(self):\n",
    "        return (\"NumpyStruct(shape={self.shape}, \"\n",
    "               \"refcount={self.ob_refcnt}\").format(self=self)\n",
    "    "
   ]
  },
  {
   "cell_type": "code",
   "execution_count": 36,
   "metadata": {},
   "outputs": [
    {
     "data": {
      "text/plain": [
       "NumpyStruct(shape=(10, 20), refcount=1"
      ]
     },
     "execution_count": 36,
     "metadata": {},
     "output_type": "execute_result"
    }
   ],
   "source": [
    "x = np.random.random((10, 20))\n",
    "xstruct = NumpyStruct.from_address(id(x))\n",
    "xstruct"
   ]
  },
  {
   "cell_type": "code",
   "execution_count": 37,
   "metadata": {},
   "outputs": [
    {
     "data": {
      "text/plain": [
       "NumpyStruct(shape=(10, 20), refcount=4"
      ]
     },
     "execution_count": 37,
     "metadata": {},
     "output_type": "execute_result"
    }
   ],
   "source": [
    "L = [x, x, x]\n",
    "xstruct"
   ]
  },
  {
   "cell_type": "code",
   "execution_count": 38,
   "metadata": {},
   "outputs": [
    {
     "data": {
      "text/plain": [
       "[0, 1, 2, 3, 4, 5, 6, 7, 8, 9]"
      ]
     },
     "execution_count": 38,
     "metadata": {},
     "output_type": "execute_result"
    }
   ],
   "source": [
    "x = np.arange(10)\n",
    "xstruct = NumpyStruct.from_address(id(x))\n",
    "size = np.prod(xstruct.shape)\n",
    "\n",
    "#assume an array of integers\n",
    "arraytype = size * ctypes.c_long\n",
    "data = arraytype.from_address(xstruct.ob_data)\n",
    "\n",
    "[d for d in data]"
   ]
  },
  {
   "cell_type": "code",
   "execution_count": 39,
   "metadata": {},
   "outputs": [
    {
     "data": {
      "text/plain": [
       "[0, 1, 2, 3, 555, 5, 6, 7, 8, 9]"
      ]
     },
     "execution_count": 39,
     "metadata": {},
     "output_type": "execute_result"
    }
   ],
   "source": [
    "x[4] = 555\n",
    "[d for d in data]"
   ]
  },
  {
   "cell_type": "markdown",
   "metadata": {},
   "source": [
    "# Just for fun, \"never use these hacks\""
   ]
  },
  {
   "cell_type": "markdown",
   "metadata": {},
   "source": [
    "## Modifying value of an integer"
   ]
  },
  {
   "cell_type": "code",
   "execution_count": 40,
   "metadata": {},
   "outputs": [
    {
     "data": {
      "text/plain": [
       "False"
      ]
     },
     "execution_count": 40,
     "metadata": {},
     "output_type": "execute_result"
    }
   ],
   "source": [
    "id113 = id(113)\n",
    "iptr = IntStruct.from_address(id113)\n",
    "iptr.ob_digit = 4 # now python's 113 contains a 4\n",
    "\n",
    "113 == 4"
   ]
  },
  {
   "cell_type": "code",
   "execution_count": 41,
   "metadata": {},
   "outputs": [
    {
     "data": {
      "text/plain": [
       "113"
      ]
     },
     "execution_count": 41,
     "metadata": {},
     "output_type": "execute_result"
    }
   ],
   "source": [
    "113\n"
   ]
  },
  {
   "cell_type": "code",
   "execution_count": 42,
   "metadata": {},
   "outputs": [
    {
     "data": {
      "text/plain": [
       "113"
      ]
     },
     "execution_count": 42,
     "metadata": {},
     "output_type": "execute_result"
    }
   ],
   "source": [
    "112 + 1"
   ]
  },
  {
   "cell_type": "markdown",
   "metadata": {},
   "source": [
    "## In-place modification of list contents"
   ]
  },
  {
   "cell_type": "code",
   "execution_count": 43,
   "metadata": {},
   "outputs": [
    {
     "name": "stdout",
     "output_type": "stream",
     "text": [
      "before:  [42]\n"
     ]
    }
   ],
   "source": [
    "L = [42]\n",
    "Lwrapper = ListStruct.from_address(id(L))\n",
    "item_address = ctypes.c_long.from_address(Lwrapper.ob_item)\n",
    "print \"before: \", L"
   ]
  },
  {
   "cell_type": "markdown",
   "metadata": {},
   "source": [
    "### change the c-pointer of the list item"
   ]
  },
  {
   "cell_type": "code",
   "execution_count": 44,
   "metadata": {
    "collapsed": true
   },
   "outputs": [],
   "source": [
    "item_address.value = id(6)"
   ]
  },
  {
   "cell_type": "markdown",
   "metadata": {},
   "source": [
    "#### update the reference count by hand"
   ]
  },
  {
   "cell_type": "code",
   "execution_count": 45,
   "metadata": {},
   "outputs": [
    {
     "name": "stdout",
     "output_type": "stream",
     "text": [
      "after :  [6]\n"
     ]
    }
   ],
   "source": [
    "IntStruct.from_address(id(42)).ob_refcnt -= 1\n",
    "IntStruct.from_address(id(6)).ob_refcnt += 1\n",
    "print \"after : \", L"
   ]
  },
  {
   "cell_type": "markdown",
   "metadata": {},
   "source": [
    "## Meta goes meta: a self-wrapping python objecy"
   ]
  },
  {
   "cell_type": "code",
   "execution_count": 46,
   "metadata": {
    "collapsed": true
   },
   "outputs": [],
   "source": [
    "class CStructStruct(ctypes.Structure):\n",
    "    _fields_ = [(\"ob_refcnt\", ctypes.c_long), \n",
    "               (\"ob_type\", ctypes.c_void_p), \n",
    "               (\"ob_ptr\", ctypes.c_long),\n",
    "               ]\n",
    "    def __repr__(self):\n",
    "        return (\"CStructStruct(ptr=0x{self.ob_ptr:x},\"\n",
    "               \"refcnt = {self.ob_refcnt}\").format(self=self)\n",
    "    "
   ]
  },
  {
   "cell_type": "code",
   "execution_count": 47,
   "metadata": {},
   "outputs": [
    {
     "name": "stdout",
     "output_type": "stream",
     "text": [
      "CStructStruct(ptr=0x7fc6af508900,refcnt = 1\n"
     ]
    }
   ],
   "source": [
    "tmp = IntStruct.from_address(id(0))\n",
    "meta = CStructStruct.from_address(id(tmp))\n",
    "print repr(meta)"
   ]
  },
  {
   "cell_type": "code",
   "execution_count": 48,
   "metadata": {},
   "outputs": [
    {
     "name": "stdout",
     "output_type": "stream",
     "text": [
      "True\n"
     ]
    }
   ],
   "source": [
    "meta_wrapper = CStructStruct.from_address(id(meta))\n",
    "meta_wrapper.ob_ptr = id(meta)\n",
    "\n",
    "print meta.ob_ptr == id(meta)"
   ]
  },
  {
   "cell_type": "code",
   "execution_count": 49,
   "metadata": {},
   "outputs": [
    {
     "name": "stdout",
     "output_type": "stream",
     "text": [
      "CStructStruct(ptr=0x116f984d0,refcnt = 7\n"
     ]
    }
   ],
   "source": [
    "print repr(meta)"
   ]
  },
  {
   "cell_type": "code",
   "execution_count": 50,
   "metadata": {},
   "outputs": [
    {
     "name": "stdout",
     "output_type": "stream",
     "text": [
      "[[...]]\n"
     ]
    }
   ],
   "source": [
    "L = []\n",
    "L.append(L)\n",
    "print L"
   ]
  },
  {
   "cell_type": "code",
   "execution_count": null,
   "metadata": {
    "collapsed": true
   },
   "outputs": [],
   "source": []
  }
 ],
 "metadata": {
  "kernelspec": {
   "display_name": "Python 2",
   "language": "python",
   "name": "python2"
  },
  "language_info": {
   "codemirror_mode": {
    "name": "ipython",
    "version": 2
   },
   "file_extension": ".py",
   "mimetype": "text/x-python",
   "name": "python",
   "nbconvert_exporter": "python",
   "pygments_lexer": "ipython2",
   "version": "2.7.13"
  }
 },
 "nbformat": 4,
 "nbformat_minor": 2
}
